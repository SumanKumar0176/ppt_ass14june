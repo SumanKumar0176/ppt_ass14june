{
 "cells": [
  {
   "cell_type": "code",
   "execution_count": 1,
   "id": "0d3c01e0-1b19-449a-a267-005635c1ea16",
   "metadata": {},
   "outputs": [
    {
     "data": {
      "text/plain": [
       "'\\n💡 **Question 1**\\n\\nGiven a singly linked list, delete\\xa0**middle**\\xa0of the linked list. For example, if given linked list is 1->2->**3**->4->5 then linked list should be modified to 1->2->4->5.If there are\\xa0**even**\\xa0nodes, then there would be\\xa0**two middle**\\xa0nodes, we need to delete the second middle element. For example, if given linked list is 1->2->3->4->5->6 then it should be modified to 1->2->3->5->6.If the input linked list is NULL or has 1 node, then it should return NULL\\n\\n'"
      ]
     },
     "execution_count": 1,
     "metadata": {},
     "output_type": "execute_result"
    }
   ],
   "source": [
    "\"\"\"\n",
    "💡 **Question 1**\n",
    "\n",
    "Given a singly linked list, delete **middle** of the linked list. For example, if given linked list is 1->2->**3**->4->5 then linked list should be modified to 1->2->4->5.If there are **even** nodes, then there would be **two middle** nodes, we need to delete the second middle element. For example, if given linked list is 1->2->3->4->5->6 then it should be modified to 1->2->3->5->6.If the input linked list is NULL or has 1 node, then it should return NULL\n",
    "\n",
    "\"\"\""
   ]
  },
  {
   "cell_type": "code",
   "execution_count": 4,
   "id": "492ed453-c0ab-4c62-8f17-598b235daf91",
   "metadata": {},
   "outputs": [],
   "source": [
    "class Node:\n",
    "    def __init__(self, data):\n",
    "        self.data = data\n",
    "        self.next = None\n",
    "\n",
    "\n",
    "def delete_middle_node(head):\n",
    "    if head is None or head.next is None:\n",
    "        return None\n",
    "\n",
    "    slow_ptr = head\n",
    "    fast_ptr = head\n",
    "    prev_ptr = None\n",
    "\n",
    "    while fast_ptr is not None and fast_ptr.next is not None:\n",
    "        fast_ptr = fast_ptr.next.next\n",
    "        prev_ptr = slow_ptr\n",
    "        slow_ptr = slow_ptr.next\n",
    "\n",
    "    prev_ptr.next = slow_ptr.next\n",
    "\n",
    "    return head\n",
    "\n"
   ]
  },
  {
   "cell_type": "code",
   "execution_count": 5,
   "id": "c1da249a-6267-45b5-bfce-f986e18d6dd0",
   "metadata": {},
   "outputs": [
    {
     "name": "stdout",
     "output_type": "stream",
     "text": [
      "Original Linked List:\n",
      "1 2 3 4 5 \n",
      "Modified Linked List:\n",
      "1 2 4 5 "
     ]
    }
   ],
   "source": [
    "# Create the linked list: 1 -> 2 -> 3 -> 4 -> 5\n",
    "head = Node(1)\n",
    "head.next = Node(2)\n",
    "head.next.next = Node(3)\n",
    "head.next.next.next = Node(4)\n",
    "head.next.next.next.next = Node(5)\n",
    "\n",
    "print(\"Original Linked List:\")\n",
    "current = head\n",
    "while current is not None:\n",
    "    print(current.data, end=\" \")\n",
    "    current = current.next\n",
    "\n",
    "head = delete_middle_node(head)\n",
    "\n",
    "print(\"\\nModified Linked List:\")\n",
    "current = head\n",
    "while current is not None:\n",
    "    print(current.data, end=\" \")\n",
    "    current = current.next\n"
   ]
  },
  {
   "cell_type": "code",
   "execution_count": 6,
   "id": "e042dcaa-ed0e-4a0d-bf4e-101d4b13265b",
   "metadata": {},
   "outputs": [
    {
     "data": {
      "text/plain": [
       "'\\n\\n💡 **Question 2**\\n\\nGiven a linked list of\\xa0**N**\\xa0nodes. The task is to check if the\\xa0linked list has a loop. Linked list can contain\\xa0self loop.\\n\\n\\n'"
      ]
     },
     "execution_count": 6,
     "metadata": {},
     "output_type": "execute_result"
    }
   ],
   "source": [
    "\"\"\"\n",
    "\n",
    "💡 **Question 2**\n",
    "\n",
    "Given a linked list of **N** nodes. The task is to check if the linked list has a loop. Linked list can contain self loop.\n",
    "\n",
    "\n",
    "\"\"\""
   ]
  },
  {
   "cell_type": "code",
   "execution_count": 7,
   "id": "c294b530-d378-4a9c-b589-1f1e879608a1",
   "metadata": {},
   "outputs": [
    {
     "name": "stdout",
     "output_type": "stream",
     "text": [
      "Does the linked list have a loop? True\n",
      "Does the linked list have a loop? False\n"
     ]
    }
   ],
   "source": [
    "class Node:\n",
    "    def __init__(self, data):\n",
    "        self.data = data\n",
    "        self.next = None\n",
    "\n",
    "\n",
    "def has_loop(head):\n",
    "    if head is None:\n",
    "        return False\n",
    "\n",
    "    slow_ptr = head\n",
    "    fast_ptr = head\n",
    "\n",
    "    while fast_ptr is not None and fast_ptr.next is not None:\n",
    "        slow_ptr = slow_ptr.next\n",
    "        fast_ptr = fast_ptr.next.next\n",
    "\n",
    "        if slow_ptr == fast_ptr:\n",
    "            return True\n",
    "\n",
    "    return False\n",
    "\n",
    "\n",
    "def create_linked_list(values, x):\n",
    "    if len(values) == 0:\n",
    "        return None\n",
    "\n",
    "    head = Node(values[0])\n",
    "    current = head\n",
    "\n",
    "    loop_node = None\n",
    "    loop_position = x\n",
    "\n",
    "    for i in range(1, len(values)):\n",
    "        node = Node(values[i])\n",
    "        current.next = node\n",
    "        current = node\n",
    "\n",
    "        if i == loop_position:\n",
    "            loop_node = node\n",
    "\n",
    "    if loop_node:\n",
    "        current.next = loop_node\n",
    "\n",
    "    return head\n",
    "\n",
    "\n",
    "# Example test case 1\n",
    "values1 = [1, 3, 4]\n",
    "x1 = 2\n",
    "head1 = create_linked_list(values1, x1)\n",
    "has_loop_result1 = has_loop(head1)\n",
    "print(\"Does the linked list have a loop?\", has_loop_result1)\n",
    "\n",
    "# Example test case 2\n",
    "values2 = [1, 8, 3, 4]\n",
    "x2 = 0\n",
    "head2 = create_linked_list(values2, x2)\n",
    "has_loop_result2 = has_loop(head2)\n",
    "print(\"Does the linked list have a loop?\", has_loop_result2)\n"
   ]
  },
  {
   "cell_type": "code",
   "execution_count": 8,
   "id": "1defec46-f8a6-4c29-a5fc-07c45093e461",
   "metadata": {},
   "outputs": [
    {
     "data": {
      "text/plain": [
       "'\\n **Question 3**\\n\\nGiven a linked list consisting of\\xa0**L**\\xa0nodes and given a number\\xa0**N**. The task is to find the\\xa0**N**th\\xa0node from the end of the linked list.\\n\\n'"
      ]
     },
     "execution_count": 8,
     "metadata": {},
     "output_type": "execute_result"
    }
   ],
   "source": [
    "\"\"\"\n",
    " **Question 3**\n",
    "\n",
    "Given a linked list consisting of **L** nodes and given a number **N**. The task is to find the **N**th node from the end of the linked list.\n",
    "\n",
    "\"\"\""
   ]
  },
  {
   "cell_type": "code",
   "execution_count": 9,
   "id": "a2c82f97-b778-4623-94f7-e8a6056b8411",
   "metadata": {},
   "outputs": [],
   "source": [
    "class Node:\n",
    "    def __init__(self, data):\n",
    "        self.data = data\n",
    "        self.next = None\n",
    "\n",
    "\n",
    "def find_nth_from_end(head, N):\n",
    "    if head is None or N <= 0:\n",
    "        return -1\n",
    "\n",
    "    first = head\n",
    "    second = head\n",
    "\n",
    "    # Move the first pointer N nodes ahead\n",
    "    for _ in range(N):\n",
    "        if first is None:\n",
    "            return -1\n",
    "        first = first.next\n",
    "\n",
    "    # Move both pointers until the first pointer reaches the end\n",
    "    while first is not None:\n",
    "        first = first.next\n",
    "        second = second.next\n",
    "\n",
    "    return second.data\n"
   ]
  },
  {
   "cell_type": "code",
   "execution_count": 10,
   "id": "5482345b-313f-487f-bf85-572194854ccf",
   "metadata": {},
   "outputs": [
    {
     "name": "stdout",
     "output_type": "stream",
     "text": [
      "Nth node from the end: 8\n",
      "Nth node from the end: -1\n"
     ]
    }
   ],
   "source": [
    "# Example test case 1\n",
    "values1 = [1, 2, 3, 4, 5, 6, 7, 8, 9]\n",
    "N1 = 2\n",
    "head1 = Node(values1[0])\n",
    "current = head1\n",
    "for i in range(1, len(values1)):\n",
    "    node = Node(values1[i])\n",
    "    current.next = node\n",
    "    current = node\n",
    "\n",
    "result1 = find_nth_from_end(head1, N1)\n",
    "print(\"Nth node from the end:\", result1)\n",
    "\n",
    "# Example test case 2\n",
    "values2 = [10, 5, 100, 5]\n",
    "N2 = 5\n",
    "head2 = Node(values2[0])\n",
    "current = head2\n",
    "for i in range(1, len(values2)):\n",
    "    node = Node(values2[i])\n",
    "    current.next = node\n",
    "    current = node\n",
    "\n",
    "result2 = find_nth_from_end(head2, N2)\n",
    "print(\"Nth node from the end:\", result2)\n"
   ]
  },
  {
   "cell_type": "code",
   "execution_count": 11,
   "id": "ce7e7aa0-6630-4b48-9e2e-200c2ea1bdcb",
   "metadata": {},
   "outputs": [
    {
     "data": {
      "text/plain": [
       "'\\n**Question 4**\\n\\nGiven a singly linked list of characters, write a function that returns true if the given list is a palindrome, else false.\\n\\n!https://media.geeksforgeeks.org/wp-content/uploads/20220816144425/LLdrawio.png\\n\\n**Examples:**\\n\\n> Input:\\xa0R->A->D->A->R->NULL\\n> \\n> \\n> **Output:**\\xa0Yes\\n> \\n> **Input:**\\xa0C->O->D->E->NULL\\n> \\n> **Output:**\\xa0No\\n> \\n'"
      ]
     },
     "execution_count": 11,
     "metadata": {},
     "output_type": "execute_result"
    }
   ],
   "source": [
    "\"\"\"\n",
    "**Question 4**\n",
    "\n",
    "Given a singly linked list of characters, write a function that returns true if the given list is a palindrome, else false.\n",
    "\n",
    "!https://media.geeksforgeeks.org/wp-content/uploads/20220816144425/LLdrawio.png\n",
    "\n",
    "**Examples:**\n",
    "\n",
    "> Input: R->A->D->A->R->NULL\n",
    "> \n",
    "> \n",
    "> **Output:** Yes\n",
    "> \n",
    "> **Input:** C->O->D->E->NULL\n",
    "> \n",
    "> **Output:** No\n",
    "> \n",
    "\"\"\""
   ]
  },
  {
   "cell_type": "code",
   "execution_count": 12,
   "id": "36d92e15-5eed-415f-a44c-be23a15366df",
   "metadata": {},
   "outputs": [],
   "source": [
    "class Node:\n",
    "    def __init__(self, data):\n",
    "        self.data = data\n",
    "        self.next = None\n",
    "\n",
    "\n",
    "def reverse_linked_list(head):\n",
    "    prev = None\n",
    "    current = head\n",
    "\n",
    "    while current is not None:\n",
    "        next_node = current.next\n",
    "        current.next = prev\n",
    "        prev = current\n",
    "        current = next_node\n",
    "\n",
    "    return prev\n",
    "\n",
    "\n",
    "def is_palindrome(head):\n",
    "    if head is None or head.next is None:\n",
    "        return True\n",
    "\n",
    "    slow_ptr = head\n",
    "    fast_ptr = head\n",
    "\n",
    "    while fast_ptr is not None and fast_ptr.next is not None:\n",
    "        slow_ptr = slow_ptr.next\n",
    "        fast_ptr = fast_ptr.next.next\n",
    "\n",
    "    second_half = reverse_linked_list(slow_ptr.next)\n",
    "    current1 = head\n",
    "    current2 = second_half\n",
    "\n",
    "    while current2 is not None:\n",
    "        if current1.data != current2.data:\n",
    "            return False\n",
    "\n",
    "        current1 = current1.next\n",
    "        current2 = current2.next\n",
    "\n",
    "    return True\n"
   ]
  },
  {
   "cell_type": "code",
   "execution_count": 13,
   "id": "5f9e4e2b-3e35-468d-8000-054514293683",
   "metadata": {},
   "outputs": [
    {
     "name": "stdout",
     "output_type": "stream",
     "text": [
      "Is the linked list a palindrome? True\n"
     ]
    }
   ],
   "source": [
    "# Create the linked list: R -> A -> D -> A -> R\n",
    "head = Node('R')\n",
    "head.next = Node('A')\n",
    "head.next.next = Node('D')\n",
    "head.next.next.next = Node('A')\n",
    "head.next.next.next.next = Node('R')\n",
    "\n",
    "result = is_palindrome(head)\n",
    "print(\"Is the linked list a palindrome?\", result)\n"
   ]
  },
  {
   "cell_type": "code",
   "execution_count": 14,
   "id": "46f77bbf-eaf6-413c-a965-82737690303a",
   "metadata": {},
   "outputs": [
    {
     "data": {
      "text/plain": [
       "'\\n<aside>\\n💡 **Question 5**\\n\\nGiven a linked list of\\xa0**N**\\xa0nodes such that it may contain a loop.\\n\\nA loop here means that the last node of the link list is connected to the node at position X(1-based index). If the link list does not have any loop, X=0.\\n\\nRemove the loop from the linked list, if it is present, i.e. unlink the last node which is forming the loop.\\n\\n</aside>'"
      ]
     },
     "execution_count": 14,
     "metadata": {},
     "output_type": "execute_result"
    }
   ],
   "source": [
    "\"\"\"\n",
    "<aside>\n",
    "💡 **Question 5**\n",
    "\n",
    "Given a linked list of **N** nodes such that it may contain a loop.\n",
    "\n",
    "A loop here means that the last node of the link list is connected to the node at position X(1-based index). If the link list does not have any loop, X=0.\n",
    "\n",
    "Remove the loop from the linked list, if it is present, i.e. unlink the last node which is forming the loop.\n",
    "\n",
    "</aside>\"\"\""
   ]
  },
  {
   "cell_type": "code",
   "execution_count": 17,
   "id": "e0cf0b5c-64d1-482c-8c3d-5277eb2ec1f4",
   "metadata": {},
   "outputs": [
    {
     "name": "stdout",
     "output_type": "stream",
     "text": [
      "Loop removed successfully.\n"
     ]
    }
   ],
   "source": [
    "class Node:\n",
    "    def __init__(self, data):\n",
    "        self.data = data\n",
    "        self.next = None\n",
    "\n",
    "\n",
    "def detect_loop(head):\n",
    "    if head is None or head.next is None:\n",
    "        return None\n",
    "\n",
    "    slow_ptr = head\n",
    "    fast_ptr = head\n",
    "\n",
    "    while fast_ptr is not None and fast_ptr.next is not None:\n",
    "        slow_ptr = slow_ptr.next\n",
    "        fast_ptr = fast_ptr.next.next\n",
    "\n",
    "        if slow_ptr == fast_ptr:\n",
    "            return slow_ptr\n",
    "\n",
    "    return None\n",
    "\n",
    "\n",
    "def remove_loop(head, loop_node):\n",
    "    ptr1 = head\n",
    "    ptr2 = loop_node\n",
    "\n",
    "    # Find the start node of the loop\n",
    "    while ptr1.next != ptr2.next:\n",
    "        ptr1 = ptr1.next\n",
    "        ptr2 = ptr2.next\n",
    "\n",
    "    # Set the next pointer of the last node in the loop to None\n",
    "    ptr2.next = None\n",
    "\n",
    "\n",
    "def remove_loop_from_linked_list(head):\n",
    "    loop_node = detect_loop(head)\n",
    "\n",
    "    if loop_node is None:\n",
    "        return head\n",
    "\n",
    "    remove_loop(head, loop_node)\n",
    "\n",
    "    return head\n",
    "\n",
    "\n",
    "def create_linked_list(values, x):\n",
    "    if len(values) == 0:\n",
    "        return None\n",
    "\n",
    "    head = Node(values[0])\n",
    "    current = head\n",
    "    loop_node = None\n",
    "    loop_position = x\n",
    "\n",
    "    for i in range(1, len(values)):\n",
    "        node = Node(values[i])\n",
    "        current.next = node\n",
    "        current = node\n",
    "\n",
    "        if i == loop_position:\n",
    "            loop_node = node\n",
    "\n",
    "    if loop_node:\n",
    "        current.next = loop_node\n",
    "\n",
    "    return head\n",
    "\n",
    "\n",
    "# Example test case 1\n",
    "values1 = [1, 3, 4]\n",
    "x1 = 2\n",
    "head1 = create_linked_list(values1, x1)\n",
    "result1 = remove_loop_from_linked_list(head1)\n",
    "if result1 is None:\n",
    "    print(\"No loop detected.\")\n",
    "else:\n",
    "    print(\"Loop removed successfully.\")\n",
    "\n",
    "# Example test case 2\n",
    "values2 = [1, 8, 3, 4]\n",
    "x2 = 0\n",
    "head2 = create_linked_list(values2, x2)\n",
    "result2 = remove_loop_from_linked_list(head2)\n",
    "if result2 is None:\n",
    "    print(\"No loop\")\n",
    "\n",
    "\n",
    "\n"
   ]
  },
  {
   "cell_type": "code",
   "execution_count": 18,
   "id": "9d75de79-6239-49c6-9b20-0a019b6c57da",
   "metadata": {},
   "outputs": [
    {
     "data": {
      "text/plain": [
       "'\\n**Question 6**\\n\\nGiven a linked list and two integers M and N. Traverse the linked list such that you retain M nodes then delete next N nodes, continue the same till end of the linked list.\\n\\nDifficulty Level: Rookie\\n\\n'"
      ]
     },
     "execution_count": 18,
     "metadata": {},
     "output_type": "execute_result"
    }
   ],
   "source": [
    "\"\"\"\n",
    "**Question 6**\n",
    "\n",
    "Given a linked list and two integers M and N. Traverse the linked list such that you retain M nodes then delete next N nodes, continue the same till end of the linked list.\n",
    "\n",
    "Difficulty Level: Rookie\n",
    "\n",
    "\"\"\""
   ]
  },
  {
   "cell_type": "code",
   "execution_count": 20,
   "id": "badfe2b1-ff72-46ac-ae23-e2534a57b4b7",
   "metadata": {},
   "outputs": [
    {
     "name": "stdout",
     "output_type": "stream",
     "text": [
      "Original Linked List:\n",
      "1 2 3 4 5 6 7 8 \n",
      "Modified Linked List:\n",
      "1 2 5 6 \n",
      "Original Linked List:\n",
      "1 2 3 4 5 6 7 8 9 10 \n",
      "Modified Linked List:\n",
      "1 2 3 6 7 8 \n",
      "Original Linked List:\n",
      "1 2 3 4 5 6 7 8 9 10 \n",
      "Modified Linked List:\n",
      "1 3 5 7 9 \n"
     ]
    }
   ],
   "source": [
    "class Node:\n",
    "    def __init__(self, data):\n",
    "        self.data = data\n",
    "        self.next = None\n",
    "\n",
    "\n",
    "def retain_delete(head, M, N):\n",
    "    if M == 0:\n",
    "        return None\n",
    "\n",
    "    current = head\n",
    "    prev = None\n",
    "\n",
    "    while current is not None:\n",
    "        for _ in range(M):\n",
    "            if current is None:\n",
    "                break\n",
    "            prev = current\n",
    "            current = current.next\n",
    "\n",
    "        for _ in range(N):\n",
    "            if current is None:\n",
    "                break\n",
    "            current = current.next\n",
    "\n",
    "        prev.next = current\n",
    "\n",
    "    return head\n",
    "\n",
    "\n",
    "def create_linked_list(values):\n",
    "    if len(values) == 0:\n",
    "        return None\n",
    "\n",
    "    head = Node(values[0])\n",
    "    current = head\n",
    "\n",
    "    for i in range(1, len(values)):\n",
    "        node = Node(values[i])\n",
    "        current.next = node\n",
    "        current = node\n",
    "\n",
    "    return head\n",
    "\n",
    "\n",
    "def print_linked_list(head):\n",
    "    current = head\n",
    "    while current is not None:\n",
    "        print(current.data, end=\" \")\n",
    "        current = current.next\n",
    "    print()\n",
    "\n",
    "\n",
    "# Example test case 1\n",
    "values1 = [1, 2, 3, 4, 5, 6, 7, 8]\n",
    "M1 = 2\n",
    "N1 = 2\n",
    "head1 = create_linked_list(values1)\n",
    "print(\"Original Linked List:\")\n",
    "print_linked_list(head1)\n",
    "\n",
    "result1 = retain_delete(head1, M1, N1)\n",
    "print(\"Modified Linked List:\")\n",
    "print_linked_list(result1)\n",
    "\n",
    "# Example test case 2\n",
    "values2 = [1, 2, 3, 4, 5, 6, 7, 8, 9, 10]\n",
    "M2 = 3\n",
    "N2 = 2\n",
    "head2 = create_linked_list(values2)\n",
    "print(\"Original Linked List:\")\n",
    "print_linked_list(head2)\n",
    "\n",
    "result2 = retain_delete(head2, M2, N2)\n",
    "print(\"Modified Linked List:\")\n",
    "print_linked_list(result2)\n",
    "\n",
    "# Example test case 3\n",
    "values3 = [1, 2, 3, 4, 5, 6, 7, 8, 9, 10]\n",
    "M3 = 1\n",
    "N3 = 1\n",
    "head3 = create_linked_list(values3)\n",
    "print(\"Original Linked List:\")\n",
    "print_linked_list(head3)\n",
    "\n",
    "result3 = retain_delete(head3, M3, N3)\n",
    "print(\"Modified Linked List:\")\n",
    "print_linked_list(result3)\n"
   ]
  },
  {
   "cell_type": "code",
   "execution_count": 21,
   "id": "f75b04af-65c4-41db-baaa-bea4d1f60fef",
   "metadata": {},
   "outputs": [
    {
     "data": {
      "text/plain": [
       "'\\n **Question 7**\\n\\nGiven two linked lists, insert nodes of second list into first list at alternate positions of first list.\\nFor example, if first list is 5->7->17->13->11 and second is 12->10->2->4->6, the first list should become 5->12->7->10->17->2->13->4->11->6 and second list should become empty. The nodes of second list should only be inserted when there are positions available. For example, if the first list is 1->2->3 and second list is 4->5->6->7->8, then first list should become 1->4->2->5->3->6 and second list to 7->8.\\n\\nUse of extra space is not allowed (Not allowed to create additional nodes), i.e., insertion must be done in-place. Expected time complexity is O(n) where n is number of nodes in first list\\n\\n'"
      ]
     },
     "execution_count": 21,
     "metadata": {},
     "output_type": "execute_result"
    }
   ],
   "source": [
    "\"\"\"\n",
    " **Question 7**\n",
    "\n",
    "Given two linked lists, insert nodes of second list into first list at alternate positions of first list.\n",
    "For example, if first list is 5->7->17->13->11 and second is 12->10->2->4->6, the first list should become 5->12->7->10->17->2->13->4->11->6 and second list should become empty. The nodes of second list should only be inserted when there are positions available. For example, if the first list is 1->2->3 and second list is 4->5->6->7->8, then first list should become 1->4->2->5->3->6 and second list to 7->8.\n",
    "\n",
    "Use of extra space is not allowed (Not allowed to create additional nodes), i.e., insertion must be done in-place. Expected time complexity is O(n) where n is number of nodes in first list\n",
    "\n",
    "\"\"\""
   ]
  },
  {
   "cell_type": "code",
   "execution_count": null,
   "id": "185fe345-483d-4b35-8a2c-b3be5e46bdb7",
   "metadata": {},
   "outputs": [],
   "source": [
    "class Node:\n",
    "    def __init__(self, data):\n",
    "        self.data = data\n",
    "        self.next = None\n",
    "\n",
    "\n",
    "def insert_at_alternate_positions(first, second):\n",
    "    if first is None:\n",
    "        return second\n",
    "\n",
    "    if second is None:\n",
    "        return first\n",
    "\n",
    "    current1 = first\n",
    "    current2 = second\n",
    "\n",
    "    while current1 is not None and current2 is not None:\n",
    "        next1 = current1.next\n",
    "        next2 = current2.next\n",
    "\n",
    "        current1.next = current2\n",
    "        current2.next = next1\n",
    "\n",
    "        current1 = next1\n",
    "        current2 = next2\n",
    "\n",
    "    if current2 is not None:\n",
    "        current1.next = current2\n",
    "\n",
    "    second = None\n",
    "\n",
    "    return first\n",
    "\n",
    "\n",
    "def create_linked_list(values):\n",
    "    if len(values) == 0:\n",
    "        return None\n",
    "\n",
    "    head = Node(values[0])\n",
    "    current = head\n",
    "\n",
    "    for i in range(1, len(values)):\n",
    "        node = Node(values[i])\n",
    "        current.next = node\n",
    "        current = node\n",
    "\n",
    "    return head\n",
    "\n",
    "\n",
    "def print_linked_list(head):\n",
    "    current = head\n",
    "    while current is not None:\n",
    "        print(current.data, end=\" \")\n",
    "        current = current.next\n",
    "    print()\n",
    "\n",
    "\n",
    "# Example test case\n",
    "values1 = [5, 7, 17, 13, 11]\n",
    "values2 = [12, 10, 2, 4, 6]\n",
    "head1 = create_linked_list(values1)\n",
    "head2 = create_linked_list(values2)\n",
    "print(\"First Linked List:\")\n",
    "print_linked_list(head1)\n",
    "print(\"Second Linked List:\")\n",
    "print_linked_list(head2)\n",
    "\n",
    "result = insert_at_alternate_positions(head1, head2)\n",
    "print(\"Modified First Linked List:\")\n",
    "print_linked_list(result)\n",
    "print(\"Modified Second Linked List:\")\n",
    "print_linked_list(head2)\n"
   ]
  }
 ],
 "metadata": {
  "kernelspec": {
   "display_name": "Python 3 (ipykernel)",
   "language": "python",
   "name": "python3"
  },
  "language_info": {
   "codemirror_mode": {
    "name": "ipython",
    "version": 3
   },
   "file_extension": ".py",
   "mimetype": "text/x-python",
   "name": "python",
   "nbconvert_exporter": "python",
   "pygments_lexer": "ipython3",
   "version": "3.10.6"
  }
 },
 "nbformat": 4,
 "nbformat_minor": 5
}
